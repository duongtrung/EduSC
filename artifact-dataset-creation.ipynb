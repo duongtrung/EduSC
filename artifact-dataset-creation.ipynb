{
 "cells": [
  {
   "cell_type": "code",
   "execution_count": 4,
   "id": "31b8dbf2-48ba-4708-bf3d-f5f394a5f5a3",
   "metadata": {},
   "outputs": [
    {
     "data": {
      "text/plain": [
       "'educational_dataset.csv'"
      ]
     },
     "execution_count": 4,
     "metadata": {},
     "output_type": "execute_result"
    }
   ],
   "source": [
    "import pandas as pd\n",
    "import random\n",
    "\n",
    "# Define Learning Object Metadata (LOM) categories for educational domain\n",
    "lom_labels = [\n",
    "    \"Mathematics\", \"Physics\", \"Chemistry\", \"Biology\", \"Computer Science\",\n",
    "    \"Artificial Intelligence\", \"Machine Learning\", \"Deep Learning\",\n",
    "    \"Natural Language Processing\", \"Education Technology\", \"Pedagogy\",\n",
    "    \"Data Science\", \"Statistics\", \"Educational Psychology\", \"Neuroscience\",\n",
    "    \"Cognitive Science\", \"E-learning\", \"Assessment\", \"Curriculum Design\",\n",
    "    \"Educational Policy\"\n",
    "]\n",
    "\n",
    "# Generate synthetic educational dataset with 120 examples\n",
    "dataset = []\n",
    "for i in range(120):\n",
    "    text = f\"Educational resource {i+1} discusses {random.choice(lom_labels)} and its implications in modern education.\"\n",
    "    labels = random.sample(lom_labels, random.randint(1, 4))\n",
    "    dataset.append([text, \",\".join(labels)])\n",
    "\n",
    "# Create DataFrame\n",
    "df = pd.DataFrame(dataset, columns=[\"text\", \"labels\"])\n",
    "\n",
    "# Save to CSV file\n",
    "file_path = \"educational_dataset.csv\"\n",
    "df.to_csv(file_path, index=False)\n",
    "\n",
    "# Output the path for download reference\n",
    "file_path"
   ]
  },
  {
   "cell_type": "code",
   "execution_count": 5,
   "id": "c2722b17-4296-43e4-81eb-7fa2994d3777",
   "metadata": {},
   "outputs": [
    {
     "data": {
      "text/plain": [
       "'educational_dataset.csv'"
      ]
     },
     "execution_count": 5,
     "metadata": {},
     "output_type": "execute_result"
    }
   ],
   "source": [
    "import pandas as pd\n",
    "import random\n",
    "\n",
    "# Define improved educational topics and labels (English and German)\n",
    "educational_topics = [\n",
    "    (\"Introduction to calculus and mathematical theory\", [\"Mathematics\", \"Education\"]),\n",
    "    (\"Analysis of machine learning algorithms in educational data mining\", [\"Machine Learning\", \"Education Technology\"]),\n",
    "    (\"Einführung in die Quantenmechanik und ihre Anwendungen\", [\"Physics\", \"Mathematics\"]),\n",
    "    (\"Deep learning techniques for personalized learning\", [\"Deep Learning\", \"Education Technology\"]),\n",
    "    (\"Statistical methods for educational assessment\", [\"Statistics\", \"Assessment\"]),\n",
    "    (\"Künstliche Intelligenz und die Zukunft der Bildung\", [\"Artificial Intelligence\", \"Education\"]),\n",
    "    (\"Data science curriculum design for higher education\", [\"Data Science\", \"Curriculum Design\"]),\n",
    "    (\"Analyzing large-scale student performance datasets\", [\"Data Science\", \"Assessment\"]),\n",
    "    (\"Neuroscientific foundations of learning\", [\"Neuroscience\", \"Educational Psychology\"]),\n",
    "    (\"Cognitive science perspectives on instructional design\", [\"Cognitive Science\", \"Pedagogy\"]),\n",
    "    (\"Bildungspolitik und die Digitalisierung im Klassenzimmer\", [\"Educational Policy\", \"Education Technology\"]),\n",
    "    (\"Natural language processing for automatic grading\", [\"Natural Language Processing\", \"Assessment\"]),\n",
    "    (\"Gamification strategies in e-learning\", [\"E-learning\", \"Education Technology\"]),\n",
    "]\n",
    "\n",
    "# Expand to 120 samples with slight variations (synthetic augmentation)\n",
    "expanded_dataset = []\n",
    "for _ in range(10):  # Repeat to get 120 samples\n",
    "    for text, labels in educational_topics:\n",
    "        # Slight modification (append random year or context to text)\n",
    "        augmented_text = text + f\" - Case study {_+1}\"\n",
    "        expanded_dataset.append([augmented_text, \",\".join(labels)])\n",
    "\n",
    "# Convert to DataFrame and save\n",
    "df = pd.DataFrame(expanded_dataset, columns=[\"text\", \"labels\"])\n",
    "dataset_path = \"educational_dataset.csv\"\n",
    "df.to_csv(dataset_path, index=False)\n",
    "\n",
    "# Save to CSV file\n",
    "file_path = \"educational_dataset.csv\"\n",
    "df.to_csv(file_path, index=False)\n",
    "\n",
    "# Return path for user download\n",
    "dataset_path"
   ]
  },
  {
   "cell_type": "code",
   "execution_count": null,
   "id": "54820556-499a-4b6a-b765-842f0fcc9ecb",
   "metadata": {},
   "outputs": [],
   "source": []
  }
 ],
 "metadata": {
  "kernelspec": {
   "display_name": "Python 3 (ipykernel)",
   "language": "python",
   "name": "python3"
  },
  "language_info": {
   "codemirror_mode": {
    "name": "ipython",
    "version": 3
   },
   "file_extension": ".py",
   "mimetype": "text/x-python",
   "name": "python",
   "nbconvert_exporter": "python",
   "pygments_lexer": "ipython3",
   "version": "3.12.9"
  }
 },
 "nbformat": 4,
 "nbformat_minor": 5
}

{
 "cells": [
  {
   "cell_type": "code",
   "execution_count": 65,
   "id": "d981c0cd-4b31-4eb3-8fa3-9eccca78c35b",
   "metadata": {
    "tags": []
   },
   "outputs": [],
   "source": [
    "import os\n",
    "import pandas as pd\n",
    "import numpy as np\n",
    "import torch\n",
    "import torch.nn as nn\n",
    "import torch.optim as optim\n",
    "import torch.nn.functional as F\n",
    "from torch.utils.data import Dataset, DataLoader, TensorDataset\n",
    "from sklearn.model_selection import train_test_split\n",
    "from sklearn.feature_extraction.text import TfidfVectorizer\n",
    "from sklearn.preprocessing import MultiLabelBinarizer\n",
    "from sklearn.metrics import classification_report\n",
    "from sklearn.neighbors import KNeighborsClassifier\n",
    "from sklearn.multioutput import MultiOutputClassifier\n",
    "from sklearn.ensemble import RandomForestClassifier\n",
    "from transformers import BertTokenizer, BertForSequenceClassification\n",
    "from tqdm import tqdm\n",
    "import warnings\n",
    "\n",
    "# Set random seed for reproducibility\n",
    "torch.manual_seed(42)\n",
    "np.random.seed(42)\n",
    "\n",
    "# Suppress UndefinedMetricWarning for classification_report\n",
    "warnings.filterwarnings(\"ignore\", category=UserWarning)"
   ]
  },
  {
   "cell_type": "code",
   "execution_count": 66,
   "id": "215cf94f-fd99-46e1-90d1-e51f606859f3",
   "metadata": {},
   "outputs": [],
   "source": [
    "#########################\n",
    "# 1. DATASET LOADING\n",
    "#########################\n",
    "# Load dataset from CSV\n",
    "dataset_path = \"educational_dataset.csv\"\n",
    "df = pd.read_csv(dataset_path)\n",
    "\n",
    "df['labels'] = df['labels'].apply(lambda x: x.split(','))\n",
    "\n",
    "# Multi-label Binarization\n",
    "mlb = MultiLabelBinarizer()\n",
    "df['encoded_labels'] = mlb.fit_transform(df['labels']).tolist()\n",
    "\n",
    "# Train-test split\n",
    "train_texts, test_texts, train_labels, test_labels = train_test_split(\n",
    "    df['text'], df['encoded_labels'], test_size=0.2, random_state=42\n",
    ")\n",
    "\n",
    "# Convert labels to NumPy array\n",
    "train_labels = np.array(train_labels.tolist())\n",
    "test_labels = np.array(test_labels.tolist())\n",
    "\n",
    "# TF-IDF Vectorization - Supporting both English and German\n",
    "vectorizer = TfidfVectorizer(max_features=5000, analyzer='word', lowercase=True, token_pattern=r'\\b\\w{2,}\\b')\n",
    "X_train = vectorizer.fit_transform(train_texts)\n",
    "X_test = vectorizer.transform(test_texts)"
   ]
  },
  {
   "cell_type": "code",
   "execution_count": 67,
   "id": "bc4c25d3-7566-4d93-83dd-448d90a79cc8",
   "metadata": {},
   "outputs": [],
   "source": [
    "#########################\n",
    "# 2. HYPERPARAMETERS\n",
    "#########################\n",
    "BATCH_SIZE = 8\n",
    "EPOCHS = 20\n",
    "LEARNING_RATE = 1e-4\n",
    "MODEL_PATH = \"best_model.pt\"\n",
    "\n",
    "device = torch.device(\"cuda\" if torch.cuda.is_available() else \"cpu\")"
   ]
  },
  {
   "cell_type": "code",
   "execution_count": 68,
   "id": "2648bfbd-e65c-4a1a-a590-071856c092d8",
   "metadata": {},
   "outputs": [],
   "source": [
    "#########################\n",
    "# 3. MODEL DEFINITION\n",
    "#########################\n",
    "class MultiLabelNN(nn.Module):\n",
    "    def __init__(self, input_dim, output_dim):\n",
    "        super(MultiLabelNN, self).__init__()\n",
    "        self.fc1 = nn.Linear(input_dim, 256)\n",
    "        self.dropout1 = nn.Dropout(0.05)\n",
    "        self.fc2 = nn.Linear(256, 128)\n",
    "        self.dropout2 = nn.Dropout(0.05)\n",
    "        self.fc3 = nn.Linear(128, output_dim)\n",
    "    \n",
    "    def forward(self, x):\n",
    "        x = F.relu(self.fc1(x))\n",
    "        x = self.dropout1(x)\n",
    "        x = F.relu(self.fc2(x))\n",
    "        x = self.dropout2(x)\n",
    "        x = torch.sigmoid(self.fc3(x))\n",
    "        return x\n",
    "\n",
    "# Initialize model\n",
    "mlp_model = MultiLabelNN(input_dim=X_train.shape[1], output_dim=len(mlb.classes_)).to(device)\n",
    "criterion = nn.BCELoss()\n",
    "optimizer = optim.AdamW(mlp_model.parameters(), lr=LEARNING_RATE)"
   ]
  },
  {
   "cell_type": "code",
   "execution_count": 69,
   "id": "00f7468b-360b-4e62-991a-94a7688d558f",
   "metadata": {},
   "outputs": [
    {
     "name": "stderr",
     "output_type": "stream",
     "text": [
      "Training: 100%|██████████████████████████████████████████████████████████████████| 260/260 [00:00<00:00, 433.55batch/s]"
     ]
    },
    {
     "name": "stdout",
     "output_type": "stream",
     "text": [
      "Neural Network Classification Report:\n",
      "                             precision    recall  f1-score   support\n",
      "\n",
      "    Artificial Intelligence       0.00      0.00      0.00         2\n",
      "                 Assessment       0.00      0.00      0.00         6\n",
      "          Cognitive Science       0.00      0.00      0.00         2\n",
      "          Curriculum Design       0.00      0.00      0.00         4\n",
      "               Data Science       0.00      0.00      0.00         4\n",
      "              Deep Learning       0.00      0.00      0.00         3\n",
      "                 E-learning       0.00      0.00      0.00         1\n",
      "                  Education       0.00      0.00      0.00         3\n",
      "       Education Technology       0.00      0.00      0.00         9\n",
      "         Educational Policy       0.00      0.00      0.00         2\n",
      "     Educational Psychology       0.00      0.00      0.00         0\n",
      "           Machine Learning       0.00      0.00      0.00         3\n",
      "                Mathematics       0.00      0.00      0.00         3\n",
      "Natural Language Processing       0.00      0.00      0.00         2\n",
      "               Neuroscience       0.00      0.00      0.00         0\n",
      "                   Pedagogy       0.00      0.00      0.00         2\n",
      "                    Physics       0.00      0.00      0.00         2\n",
      "                 Statistics       0.00      0.00      0.00         4\n",
      "\n",
      "                  micro avg       0.00      0.00      0.00        52\n",
      "                  macro avg       0.00      0.00      0.00        52\n",
      "               weighted avg       0.00      0.00      0.00        52\n",
      "                samples avg       0.00      0.00      0.00        52\n",
      "\n"
     ]
    },
    {
     "name": "stderr",
     "output_type": "stream",
     "text": [
      "\n"
     ]
    }
   ],
   "source": [
    "#########################\n",
    "# 4. TRAINING & EVALUATION\n",
    "#########################\n",
    "train_losses = []\n",
    "test_losses = []\n",
    "\n",
    "# Prepare DataLoader for batch processing\n",
    "train_dataset = TensorDataset(torch.tensor(X_train.todense(), dtype=torch.float32), torch.tensor(train_labels, dtype=torch.float32))\n",
    "train_loader = DataLoader(train_dataset, batch_size=BATCH_SIZE, shuffle=True)\n",
    "\n",
    "def train_model(model, train_loader, test_data, test_labels, epochs):\n",
    "    best_loss = float('inf')\n",
    "    global train_losses, test_losses\n",
    "\n",
    "    progress_bar = tqdm(total=epochs * len(train_loader), desc=\"Training\", unit=\"batch\")\n",
    "\n",
    "    for epoch in range(epochs):\n",
    "        model.train()\n",
    "        epoch_loss = 0.0\n",
    "\n",
    "        for batch in train_loader:\n",
    "            inputs, labels = batch\n",
    "            inputs, labels = inputs.to(device), labels.to(device)\n",
    "\n",
    "            optimizer.zero_grad()\n",
    "            outputs = model(inputs)\n",
    "            loss = criterion(outputs, labels)\n",
    "            loss.backward()\n",
    "            optimizer.step()\n",
    "\n",
    "            epoch_loss += loss.item()\n",
    "            progress_bar.update(1)\n",
    "\n",
    "        model.eval()\n",
    "        with torch.no_grad():\n",
    "            test_inputs = torch.tensor(test_data.todense(), dtype=torch.float32).to(device)\n",
    "            test_labels_tensor = torch.tensor(test_labels, dtype=torch.float32).to(device)\n",
    "            test_outputs = model(test_inputs)\n",
    "            test_loss = criterion(test_outputs, test_labels_tensor).item()\n",
    "\n",
    "        #print(f\"Epoch {epoch+1}/{epochs} - Loss: {epoch_loss/len(train_loader):.6f} - Test Loss: {test_loss:.6f}\")\n",
    "\n",
    "        train_losses.append(epoch_loss/len(train_loader))\n",
    "        test_losses.append(test_loss)\n",
    "\n",
    "        # Save best model\n",
    "        if test_loss < best_loss:\n",
    "            best_loss = test_loss\n",
    "            torch.save(model.state_dict(), MODEL_PATH)\n",
    "            #print(\"Saved Best Model!\")\n",
    "\n",
    "    progress_bar.close()\n",
    "\n",
    "train_model(mlp_model, train_loader, X_test, test_labels, EPOCHS)\n",
    "\n",
    "# Load best model for evaluation\n",
    "mlp_model.load_state_dict(torch.load(MODEL_PATH))\n",
    "mlp_model.eval()\n",
    "\n",
    "with torch.no_grad():\n",
    "    test_inputs = torch.tensor(X_test.todense(), dtype=torch.float32).to(device)\n",
    "    predictions = mlp_model(test_inputs).cpu().numpy()\n",
    "    predictions = (predictions > 0.5).astype(int)\n",
    "\n",
    "print(\"Neural Network Classification Report:\")\n",
    "print(classification_report(test_labels, predictions, target_names=mlb.classes_, zero_division=0))"
   ]
  },
  {
   "cell_type": "code",
   "execution_count": 70,
   "id": "667c4e9d-5fff-4adc-b00e-700f7256943c",
   "metadata": {},
   "outputs": [
    {
     "name": "stdout",
     "output_type": "stream",
     "text": [
      "MLkNN Classification Report:\n",
      "                             precision    recall  f1-score   support\n",
      "\n",
      "    Artificial Intelligence       1.00      1.00      1.00         2\n",
      "                 Assessment       1.00      1.00      1.00         6\n",
      "          Cognitive Science       1.00      1.00      1.00         2\n",
      "          Curriculum Design       1.00      1.00      1.00         4\n",
      "               Data Science       1.00      1.00      1.00         4\n",
      "              Deep Learning       1.00      1.00      1.00         3\n",
      "                 E-learning       1.00      1.00      1.00         1\n",
      "                  Education       1.00      1.00      1.00         3\n",
      "       Education Technology       1.00      1.00      1.00         9\n",
      "         Educational Policy       1.00      1.00      1.00         2\n",
      "     Educational Psychology       0.00      0.00      0.00         0\n",
      "           Machine Learning       1.00      1.00      1.00         3\n",
      "                Mathematics       1.00      1.00      1.00         3\n",
      "Natural Language Processing       1.00      1.00      1.00         2\n",
      "               Neuroscience       0.00      0.00      0.00         0\n",
      "                   Pedagogy       1.00      1.00      1.00         2\n",
      "                    Physics       1.00      1.00      1.00         2\n",
      "                 Statistics       1.00      1.00      1.00         4\n",
      "\n",
      "                  micro avg       1.00      1.00      1.00        52\n",
      "                  macro avg       0.89      0.89      0.89        52\n",
      "               weighted avg       1.00      1.00      1.00        52\n",
      "                samples avg       1.00      1.00      1.00        52\n",
      "\n"
     ]
    }
   ],
   "source": [
    "#########################\n",
    "# Multi-label k-Nearest Neighbors (MLkNN)\n",
    "#########################\n",
    "knn_model = KNeighborsClassifier(n_neighbors=5)\n",
    "knn_model.fit(X_train, train_labels)\n",
    "knn_predictions = knn_model.predict(X_test)\n",
    "\n",
    "print(\"MLkNN Classification Report:\")\n",
    "print(classification_report(test_labels, knn_predictions, target_names=mlb.classes_, zero_division=0))"
   ]
  },
  {
   "cell_type": "code",
   "execution_count": 71,
   "id": "bc880825-bd4f-40cf-bbbd-b73fea1eec1e",
   "metadata": {},
   "outputs": [
    {
     "name": "stdout",
     "output_type": "stream",
     "text": [
      "Multi-output Classifier (RandomForest) Classification Report:\n",
      "                             precision    recall  f1-score   support\n",
      "\n",
      "    Artificial Intelligence       1.00      1.00      1.00         2\n",
      "                 Assessment       1.00      1.00      1.00         6\n",
      "          Cognitive Science       1.00      1.00      1.00         2\n",
      "          Curriculum Design       1.00      1.00      1.00         4\n",
      "               Data Science       1.00      1.00      1.00         4\n",
      "              Deep Learning       1.00      1.00      1.00         3\n",
      "                 E-learning       1.00      1.00      1.00         1\n",
      "                  Education       1.00      1.00      1.00         3\n",
      "       Education Technology       1.00      1.00      1.00         9\n",
      "         Educational Policy       1.00      1.00      1.00         2\n",
      "     Educational Psychology       0.00      0.00      0.00         0\n",
      "           Machine Learning       1.00      1.00      1.00         3\n",
      "                Mathematics       1.00      1.00      1.00         3\n",
      "Natural Language Processing       1.00      1.00      1.00         2\n",
      "               Neuroscience       0.00      0.00      0.00         0\n",
      "                   Pedagogy       1.00      1.00      1.00         2\n",
      "                    Physics       1.00      1.00      1.00         2\n",
      "                 Statistics       1.00      1.00      1.00         4\n",
      "\n",
      "                  micro avg       1.00      1.00      1.00        52\n",
      "                  macro avg       0.89      0.89      0.89        52\n",
      "               weighted avg       1.00      1.00      1.00        52\n",
      "                samples avg       1.00      1.00      1.00        52\n",
      "\n"
     ]
    }
   ],
   "source": [
    "#########################\n",
    "# Multi-output Classifier (with RandomForestClassifier)\n",
    "#########################\n",
    "multi_output_model = MultiOutputClassifier(RandomForestClassifier(n_estimators=100, random_state=42))\n",
    "multi_output_model.fit(X_train, train_labels)\n",
    "mo_predictions = multi_output_model.predict(X_test)\n",
    "\n",
    "print(\"Multi-output Classifier (RandomForest) Classification Report:\")\n",
    "print(classification_report(test_labels, mo_predictions, target_names=mlb.classes_, zero_division=0))"
   ]
  },
  {
   "cell_type": "code",
   "execution_count": 72,
   "id": "3e4543ae-1fbe-480e-b8a7-1719af3ca075",
   "metadata": {},
   "outputs": [
    {
     "data": {
      "image/png": "[encoded data removed]",
      "text/plain": [
       "<Figure size 640x480 with 1 Axes>"
      ]
     },
     "metadata": {},
     "output_type": "display_data"
    }
   ],
   "source": [
    "#########################\n",
    "# 5. LOGGING & VISUALIZATION\n",
    "#########################\n",
    "import matplotlib.pyplot as plt\n",
    "\n",
    "plt.plot(range(1, EPOCHS+1), train_losses, label='Training Loss')\n",
    "plt.plot(range(1, EPOCHS+1), test_losses, label='Test Loss')\n",
    "plt.xlabel('Epochs')\n",
    "plt.ylabel('Loss')\n",
    "plt.legend()\n",
    "plt.title('Loss Curve')\n",
    "plt.show()"
   ]
  },
  {
   "cell_type": "code",
   "execution_count": null,
   "id": "b1d77176-85b1-44ab-9421-01840821ff4c",
   "metadata": {},
   "outputs": [],
   "source": []
  },
  {
   "cell_type": "code",
   "execution_count": null,
   "id": "f982dd12-fe72-48ab-9f4d-9d2f8362ed49",
   "metadata": {},
   "outputs": [],
   "source": []
  }
 ],
 "metadata": {
  "kernelspec": {
   "display_name": "Python 3 (ipykernel)",
   "language": "python",
   "name": "python3"
  },
  "language_info": {
   "codemirror_mode": {
    "name": "ipython",
    "version": 3
   },
   "file_extension": ".py",
   "mimetype": "text/x-python",
   "name": "python",
   "nbconvert_exporter": "python",
   "pygments_lexer": "ipython3",
   "version": "3.12.9"
  }
 },
 "nbformat": 4,
 "nbformat_minor": 5
}
